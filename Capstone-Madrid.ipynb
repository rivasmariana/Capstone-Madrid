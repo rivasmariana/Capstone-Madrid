{
 "cells": [
  {
   "cell_type": "code",
   "execution_count": 1,
   "metadata": {},
   "outputs": [
    {
     "name": "stdout",
     "output_type": "stream",
     "text": [
      "Requirement already satisfied: geopy in /home/jupyterlab/conda/envs/python/lib/python3.6/site-packages (2.0.0)\n",
      "Requirement already satisfied: geographiclib<2,>=1.49 in /home/jupyterlab/conda/envs/python/lib/python3.6/site-packages (from geopy) (1.50)\n",
      "Requirement already satisfied: folium==0.5.0 in /home/jupyterlab/conda/envs/python/lib/python3.6/site-packages (0.5.0)\n",
      "Requirement already satisfied: branca in /home/jupyterlab/conda/envs/python/lib/python3.6/site-packages (from folium==0.5.0) (0.4.1)\n",
      "Requirement already satisfied: jinja2 in /home/jupyterlab/conda/envs/python/lib/python3.6/site-packages (from folium==0.5.0) (2.11.2)\n",
      "Requirement already satisfied: requests in /home/jupyterlab/conda/envs/python/lib/python3.6/site-packages (from folium==0.5.0) (2.24.0)\n",
      "Requirement already satisfied: six in /home/jupyterlab/conda/envs/python/lib/python3.6/site-packages (from folium==0.5.0) (1.15.0)\n",
      "Requirement already satisfied: MarkupSafe>=0.23 in /home/jupyterlab/conda/envs/python/lib/python3.6/site-packages (from jinja2->folium==0.5.0) (1.1.1)\n",
      "Requirement already satisfied: idna<3,>=2.5 in /home/jupyterlab/conda/envs/python/lib/python3.6/site-packages (from requests->folium==0.5.0) (2.10)\n",
      "Requirement already satisfied: certifi>=2017.4.17 in /home/jupyterlab/conda/envs/python/lib/python3.6/site-packages (from requests->folium==0.5.0) (2020.6.20)\n",
      "Requirement already satisfied: urllib3!=1.25.0,!=1.25.1,<1.26,>=1.21.1 in /home/jupyterlab/conda/envs/python/lib/python3.6/site-packages (from requests->folium==0.5.0) (1.25.11)\n",
      "Requirement already satisfied: chardet<4,>=3.0.2 in /home/jupyterlab/conda/envs/python/lib/python3.6/site-packages (from requests->folium==0.5.0) (3.0.4)\n",
      "Folium installed\n",
      "Libraries imported.\n"
     ]
    }
   ],
   "source": [
    "import requests # library to handle requests\n",
    "import pandas as pd # library for data analsysis\n",
    "import numpy as np # library to handle data in a vectorized manner\n",
    "import random # library for random number generation\n",
    "\n",
    "\n",
    "!pip install geopy\n",
    "from geopy.geocoders import Nominatim # module to convert an address into latitude and longitude values\n",
    "\n",
    "# libraries for displaying images\n",
    "from IPython.display import Image \n",
    "from IPython.core.display import HTML \n",
    "    \n",
    "# tranforming json file into a pandas dataframe library\n",
    "from pandas.io.json import json_normalize\n",
    "\n",
    "\n",
    "! pip install folium==0.5.0\n",
    "import folium # plotting library\n",
    "\n",
    "print('Folium installed')\n",
    "print('Libraries imported.')"
   ]
  },
  {
   "cell_type": "code",
   "execution_count": 2,
   "metadata": {},
   "outputs": [
    {
     "name": "stdout",
     "output_type": "stream",
     "text": [
      "Your credentails:\n",
      "CLIENT_ID: HSX4WFEX3FIPQJISB155NKPB5CSIRIC4PL1RJWAJTW0FQFVU\n",
      "CLIENT_SECRET:PQ4C2V4SUWPEA1M0FHP4L2NS3V2A4YH1B2K2SLPBDFXRLVBD\n"
     ]
    }
   ],
   "source": [
    "CLIENT_ID = 'HSX4WFEX3FIPQJISB155NKPB5CSIRIC4PL1RJWAJTW0FQFVU' # your Foursquare ID\n",
    "CLIENT_SECRET = 'PQ4C2V4SUWPEA1M0FHP4L2NS3V2A4YH1B2K2SLPBDFXRLVBD' # your Foursquare Secret\n",
    "VERSION = '20180604'\n",
    "LIMIT = 30\n",
    "print('Your credentails:')\n",
    "print('CLIENT_ID: ' + CLIENT_ID)\n",
    "print('CLIENT_SECRET:' + CLIENT_SECRET)"
   ]
  },
  {
   "cell_type": "code",
   "execution_count": 3,
   "metadata": {},
   "outputs": [
    {
     "name": "stdout",
     "output_type": "stream",
     "text": [
      "40.4167047 -3.7035825\n"
     ]
    }
   ],
   "source": [
    "address = 'Madrid,Spain'\n",
    "\n",
    "geolocator = Nominatim(user_agent=\"foursquare_agent\")\n",
    "location = geolocator.geocode(address)\n",
    "latitude = location.latitude\n",
    "longitude = location.longitude\n",
    "print(latitude, longitude)"
   ]
  },
  {
   "cell_type": "code",
   "execution_count": 4,
   "metadata": {},
   "outputs": [],
   "source": [
    "from geopy.geocoders import Nominatim "
   ]
  },
  {
   "cell_type": "code",
   "execution_count": 18,
   "metadata": {},
   "outputs": [
    {
     "name": "stdout",
     "output_type": "stream",
     "text": [
      "The geograpical coordinates of Madrid are 40.4167047, -3.7035825.\n"
     ]
    }
   ],
   "source": [
    "address = 'Madrid, Spain'\n",
    "\n",
    "geolocator = Nominatim(user_agent=\"Madrid_agent\")\n",
    "location = geolocator.geocode(address)\n",
    "latitude = location.latitude\n",
    "longitude = location.longitude\n",
    "print('The geograpical coordinates of Madrid are {}, {}.'.format(latitude, longitude))"
   ]
  },
  {
   "cell_type": "code",
   "execution_count": 11,
   "metadata": {},
   "outputs": [
    {
     "name": "stdout",
     "output_type": "stream",
     "text": [
      "Italian .... Great!\n"
     ]
    }
   ],
   "source": [
    "search_query = 'Italian'\n",
    "radius = 500\n",
    "print(search_query + ' .... Great!')"
   ]
  },
  {
   "cell_type": "code",
   "execution_count": 21,
   "metadata": {},
   "outputs": [
    {
     "data": {
      "text/plain": [
       "'https://api.foursquare.com/v2/venues/search?client_id=HSX4WFEX3FIPQJISB155NKPB5CSIRIC4PL1RJWAJTW0FQFVU&client_secret=PQ4C2V4SUWPEA1M0FHP4L2NS3V2A4YH1B2K2SLPBDFXRLVBD&ll=40.4167047,-3.7035825&v=20180604&query=Italian&radius=500&limit=30'"
      ]
     },
     "execution_count": 21,
     "metadata": {},
     "output_type": "execute_result"
    }
   ],
   "source": [
    "url = 'https://api.foursquare.com/v2/venues/search?client_id={}&client_secret={}&ll={},{}&v={}&query={}&radius={}&limit={}'.format(CLIENT_ID, CLIENT_SECRET, latitude, longitude, VERSION, search_query, radius, LIMIT)\n",
    "url"
   ]
  },
  {
   "cell_type": "code",
   "execution_count": 22,
   "metadata": {},
   "outputs": [
    {
     "data": {
      "text/plain": [
       "{'meta': {'code': 200, 'requestId': '5fb2bd0969bc8506c4ef78a5'},\n",
       " 'response': {'venues': [{'id': '4e5e767c14954da39ff06d12',\n",
       "    'name': 'Molto Italiano',\n",
       "    'location': {'lat': 40.415978,\n",
       "     'lng': -3.705748,\n",
       "     'labeledLatLngs': [{'label': 'display',\n",
       "       'lat': 40.415978,\n",
       "       'lng': -3.705748}],\n",
       "     'distance': 200,\n",
       "     'cc': 'ES',\n",
       "     'country': 'España',\n",
       "     'formattedAddress': ['España']},\n",
       "    'categories': [{'id': '4bf58dd8d48988d1ca941735',\n",
       "      'name': 'Pizza Place',\n",
       "      'pluralName': 'Pizza Places',\n",
       "      'shortName': 'Pizza',\n",
       "      'icon': {'prefix': 'https://ss3.4sqi.net/img/categories_v2/food/pizza_',\n",
       "       'suffix': '.png'},\n",
       "      'primary': True}],\n",
       "    'referralId': 'v-1605549321',\n",
       "    'hasPerk': False},\n",
       "   {'id': '4c080ac3a1b32d7f3c6595f0',\n",
       "    'name': '4D Caffetteria Italiana',\n",
       "    'location': {'address': 'C/ de Cuchilleros, 17',\n",
       "     'lat': 40.41397173630024,\n",
       "     'lng': -3.7080895998456374,\n",
       "     'labeledLatLngs': [{'label': 'display',\n",
       "       'lat': 40.41397173630024,\n",
       "       'lng': -3.7080895998456374}],\n",
       "     'distance': 488,\n",
       "     'postalCode': '28005',\n",
       "     'cc': 'ES',\n",
       "     'city': 'Madrid',\n",
       "     'state': 'Madrid',\n",
       "     'country': 'España',\n",
       "     'formattedAddress': ['C/ de Cuchilleros, 17',\n",
       "      '28005 Madrid Madrid',\n",
       "      'España']},\n",
       "    'categories': [{'id': '4bf58dd8d48988d16d941735',\n",
       "      'name': 'Café',\n",
       "      'pluralName': 'Cafés',\n",
       "      'shortName': 'Café',\n",
       "      'icon': {'prefix': 'https://ss3.4sqi.net/img/categories_v2/food/cafe_',\n",
       "       'suffix': '.png'},\n",
       "      'primary': True}],\n",
       "    'referralId': 'v-1605549321',\n",
       "    'hasPerk': False},\n",
       "   {'id': '5390ee01498e87f1a952ff0e',\n",
       "    'name': 'Bellamia Gelateria Italiana',\n",
       "    'location': {'address': 'C. Pérez Galdós, 3',\n",
       "     'crossStreet': 'C. Fuencarral, 34',\n",
       "     'lat': 40.42244828094222,\n",
       "     'lng': -3.7004082726112983,\n",
       "     'labeledLatLngs': [{'label': 'display',\n",
       "       'lat': 40.42244828094222,\n",
       "       'lng': -3.7004082726112983}],\n",
       "     'distance': 693,\n",
       "     'postalCode': '28004',\n",
       "     'cc': 'ES',\n",
       "     'city': 'Madrid Centro, Madrid',\n",
       "     'state': 'Madrid',\n",
       "     'country': 'España',\n",
       "     'formattedAddress': ['C. Pérez Galdós, 3 (C. Fuencarral, 34)',\n",
       "      '28004 Madrid Centro Madrid',\n",
       "      'España']},\n",
       "    'categories': [{'id': '4bf58dd8d48988d1c9941735',\n",
       "      'name': 'Ice Cream Shop',\n",
       "      'pluralName': 'Ice Cream Shops',\n",
       "      'shortName': 'Ice Cream',\n",
       "      'icon': {'prefix': 'https://ss3.4sqi.net/img/categories_v2/food/icecream_',\n",
       "       'suffix': '.png'},\n",
       "      'primary': True}],\n",
       "    'referralId': 'v-1605549321',\n",
       "    'hasPerk': False}]}}"
      ]
     },
     "execution_count": 22,
     "metadata": {},
     "output_type": "execute_result"
    }
   ],
   "source": [
    "results = requests.get(url).json()\n",
    "results"
   ]
  },
  {
   "cell_type": "code",
   "execution_count": 23,
   "metadata": {},
   "outputs": [
    {
     "name": "stderr",
     "output_type": "stream",
     "text": [
      "/home/jupyterlab/conda/envs/python/lib/python3.6/site-packages/ipykernel_launcher.py:4: FutureWarning: pandas.io.json.json_normalize is deprecated, use pandas.json_normalize instead\n",
      "  after removing the cwd from sys.path.\n"
     ]
    },
    {
     "data": {
      "text/html": [
       "<div>\n",
       "<style scoped>\n",
       "    .dataframe tbody tr th:only-of-type {\n",
       "        vertical-align: middle;\n",
       "    }\n",
       "\n",
       "    .dataframe tbody tr th {\n",
       "        vertical-align: top;\n",
       "    }\n",
       "\n",
       "    .dataframe thead th {\n",
       "        text-align: right;\n",
       "    }\n",
       "</style>\n",
       "<table border=\"1\" class=\"dataframe\">\n",
       "  <thead>\n",
       "    <tr style=\"text-align: right;\">\n",
       "      <th></th>\n",
       "      <th>id</th>\n",
       "      <th>name</th>\n",
       "      <th>categories</th>\n",
       "      <th>referralId</th>\n",
       "      <th>hasPerk</th>\n",
       "      <th>location.lat</th>\n",
       "      <th>location.lng</th>\n",
       "      <th>location.labeledLatLngs</th>\n",
       "      <th>location.distance</th>\n",
       "      <th>location.cc</th>\n",
       "      <th>location.country</th>\n",
       "      <th>location.formattedAddress</th>\n",
       "      <th>location.address</th>\n",
       "      <th>location.postalCode</th>\n",
       "      <th>location.city</th>\n",
       "      <th>location.state</th>\n",
       "      <th>location.crossStreet</th>\n",
       "    </tr>\n",
       "  </thead>\n",
       "  <tbody>\n",
       "    <tr>\n",
       "      <th>0</th>\n",
       "      <td>4e5e767c14954da39ff06d12</td>\n",
       "      <td>Molto Italiano</td>\n",
       "      <td>[{'id': '4bf58dd8d48988d1ca941735', 'name': 'P...</td>\n",
       "      <td>v-1605549321</td>\n",
       "      <td>False</td>\n",
       "      <td>40.415978</td>\n",
       "      <td>-3.705748</td>\n",
       "      <td>[{'label': 'display', 'lat': 40.415978, 'lng':...</td>\n",
       "      <td>200</td>\n",
       "      <td>ES</td>\n",
       "      <td>España</td>\n",
       "      <td>[España]</td>\n",
       "      <td>NaN</td>\n",
       "      <td>NaN</td>\n",
       "      <td>NaN</td>\n",
       "      <td>NaN</td>\n",
       "      <td>NaN</td>\n",
       "    </tr>\n",
       "    <tr>\n",
       "      <th>1</th>\n",
       "      <td>4c080ac3a1b32d7f3c6595f0</td>\n",
       "      <td>4D Caffetteria Italiana</td>\n",
       "      <td>[{'id': '4bf58dd8d48988d16d941735', 'name': 'C...</td>\n",
       "      <td>v-1605549321</td>\n",
       "      <td>False</td>\n",
       "      <td>40.413972</td>\n",
       "      <td>-3.708090</td>\n",
       "      <td>[{'label': 'display', 'lat': 40.41397173630024...</td>\n",
       "      <td>488</td>\n",
       "      <td>ES</td>\n",
       "      <td>España</td>\n",
       "      <td>[C/ de Cuchilleros, 17, 28005 Madrid Madrid, E...</td>\n",
       "      <td>C/ de Cuchilleros, 17</td>\n",
       "      <td>28005</td>\n",
       "      <td>Madrid</td>\n",
       "      <td>Madrid</td>\n",
       "      <td>NaN</td>\n",
       "    </tr>\n",
       "    <tr>\n",
       "      <th>2</th>\n",
       "      <td>5390ee01498e87f1a952ff0e</td>\n",
       "      <td>Bellamia Gelateria Italiana</td>\n",
       "      <td>[{'id': '4bf58dd8d48988d1c9941735', 'name': 'I...</td>\n",
       "      <td>v-1605549321</td>\n",
       "      <td>False</td>\n",
       "      <td>40.422448</td>\n",
       "      <td>-3.700408</td>\n",
       "      <td>[{'label': 'display', 'lat': 40.42244828094222...</td>\n",
       "      <td>693</td>\n",
       "      <td>ES</td>\n",
       "      <td>España</td>\n",
       "      <td>[C. Pérez Galdós, 3 (C. Fuencarral, 34), 28004...</td>\n",
       "      <td>C. Pérez Galdós, 3</td>\n",
       "      <td>28004</td>\n",
       "      <td>Madrid Centro, Madrid</td>\n",
       "      <td>Madrid</td>\n",
       "      <td>C. Fuencarral, 34</td>\n",
       "    </tr>\n",
       "  </tbody>\n",
       "</table>\n",
       "</div>"
      ],
      "text/plain": [
       "                         id                         name  \\\n",
       "0  4e5e767c14954da39ff06d12               Molto Italiano   \n",
       "1  4c080ac3a1b32d7f3c6595f0      4D Caffetteria Italiana   \n",
       "2  5390ee01498e87f1a952ff0e  Bellamia Gelateria Italiana   \n",
       "\n",
       "                                          categories    referralId  hasPerk  \\\n",
       "0  [{'id': '4bf58dd8d48988d1ca941735', 'name': 'P...  v-1605549321    False   \n",
       "1  [{'id': '4bf58dd8d48988d16d941735', 'name': 'C...  v-1605549321    False   \n",
       "2  [{'id': '4bf58dd8d48988d1c9941735', 'name': 'I...  v-1605549321    False   \n",
       "\n",
       "   location.lat  location.lng  \\\n",
       "0     40.415978     -3.705748   \n",
       "1     40.413972     -3.708090   \n",
       "2     40.422448     -3.700408   \n",
       "\n",
       "                             location.labeledLatLngs  location.distance  \\\n",
       "0  [{'label': 'display', 'lat': 40.415978, 'lng':...                200   \n",
       "1  [{'label': 'display', 'lat': 40.41397173630024...                488   \n",
       "2  [{'label': 'display', 'lat': 40.42244828094222...                693   \n",
       "\n",
       "  location.cc location.country  \\\n",
       "0          ES           España   \n",
       "1          ES           España   \n",
       "2          ES           España   \n",
       "\n",
       "                           location.formattedAddress       location.address  \\\n",
       "0                                           [España]                    NaN   \n",
       "1  [C/ de Cuchilleros, 17, 28005 Madrid Madrid, E...  C/ de Cuchilleros, 17   \n",
       "2  [C. Pérez Galdós, 3 (C. Fuencarral, 34), 28004...     C. Pérez Galdós, 3   \n",
       "\n",
       "  location.postalCode          location.city location.state  \\\n",
       "0                 NaN                    NaN            NaN   \n",
       "1               28005                 Madrid         Madrid   \n",
       "2               28004  Madrid Centro, Madrid         Madrid   \n",
       "\n",
       "  location.crossStreet  \n",
       "0                  NaN  \n",
       "1                  NaN  \n",
       "2    C. Fuencarral, 34  "
      ]
     },
     "execution_count": 23,
     "metadata": {},
     "output_type": "execute_result"
    }
   ],
   "source": [
    "venues = results['response']['venues']\n",
    "\n",
    "# tranform venues into a dataframe\n",
    "dataframe = json_normalize(venues)\n",
    "dataframe.head()"
   ]
  },
  {
   "cell_type": "code",
   "execution_count": 24,
   "metadata": {},
   "outputs": [
    {
     "data": {
      "text/html": [
       "<div>\n",
       "<style scoped>\n",
       "    .dataframe tbody tr th:only-of-type {\n",
       "        vertical-align: middle;\n",
       "    }\n",
       "\n",
       "    .dataframe tbody tr th {\n",
       "        vertical-align: top;\n",
       "    }\n",
       "\n",
       "    .dataframe thead th {\n",
       "        text-align: right;\n",
       "    }\n",
       "</style>\n",
       "<table border=\"1\" class=\"dataframe\">\n",
       "  <thead>\n",
       "    <tr style=\"text-align: right;\">\n",
       "      <th></th>\n",
       "      <th>name</th>\n",
       "      <th>categories</th>\n",
       "      <th>lat</th>\n",
       "      <th>lng</th>\n",
       "      <th>labeledLatLngs</th>\n",
       "      <th>distance</th>\n",
       "      <th>cc</th>\n",
       "      <th>country</th>\n",
       "      <th>formattedAddress</th>\n",
       "      <th>address</th>\n",
       "      <th>postalCode</th>\n",
       "      <th>city</th>\n",
       "      <th>state</th>\n",
       "      <th>crossStreet</th>\n",
       "      <th>id</th>\n",
       "    </tr>\n",
       "  </thead>\n",
       "  <tbody>\n",
       "    <tr>\n",
       "      <th>0</th>\n",
       "      <td>Molto Italiano</td>\n",
       "      <td>Pizza Place</td>\n",
       "      <td>40.415978</td>\n",
       "      <td>-3.705748</td>\n",
       "      <td>[{'label': 'display', 'lat': 40.415978, 'lng':...</td>\n",
       "      <td>200</td>\n",
       "      <td>ES</td>\n",
       "      <td>España</td>\n",
       "      <td>[España]</td>\n",
       "      <td>NaN</td>\n",
       "      <td>NaN</td>\n",
       "      <td>NaN</td>\n",
       "      <td>NaN</td>\n",
       "      <td>NaN</td>\n",
       "      <td>4e5e767c14954da39ff06d12</td>\n",
       "    </tr>\n",
       "    <tr>\n",
       "      <th>1</th>\n",
       "      <td>4D Caffetteria Italiana</td>\n",
       "      <td>Café</td>\n",
       "      <td>40.413972</td>\n",
       "      <td>-3.708090</td>\n",
       "      <td>[{'label': 'display', 'lat': 40.41397173630024...</td>\n",
       "      <td>488</td>\n",
       "      <td>ES</td>\n",
       "      <td>España</td>\n",
       "      <td>[C/ de Cuchilleros, 17, 28005 Madrid Madrid, E...</td>\n",
       "      <td>C/ de Cuchilleros, 17</td>\n",
       "      <td>28005</td>\n",
       "      <td>Madrid</td>\n",
       "      <td>Madrid</td>\n",
       "      <td>NaN</td>\n",
       "      <td>4c080ac3a1b32d7f3c6595f0</td>\n",
       "    </tr>\n",
       "    <tr>\n",
       "      <th>2</th>\n",
       "      <td>Bellamia Gelateria Italiana</td>\n",
       "      <td>Ice Cream Shop</td>\n",
       "      <td>40.422448</td>\n",
       "      <td>-3.700408</td>\n",
       "      <td>[{'label': 'display', 'lat': 40.42244828094222...</td>\n",
       "      <td>693</td>\n",
       "      <td>ES</td>\n",
       "      <td>España</td>\n",
       "      <td>[C. Pérez Galdós, 3 (C. Fuencarral, 34), 28004...</td>\n",
       "      <td>C. Pérez Galdós, 3</td>\n",
       "      <td>28004</td>\n",
       "      <td>Madrid Centro, Madrid</td>\n",
       "      <td>Madrid</td>\n",
       "      <td>C. Fuencarral, 34</td>\n",
       "      <td>5390ee01498e87f1a952ff0e</td>\n",
       "    </tr>\n",
       "  </tbody>\n",
       "</table>\n",
       "</div>"
      ],
      "text/plain": [
       "                          name      categories        lat       lng  \\\n",
       "0               Molto Italiano     Pizza Place  40.415978 -3.705748   \n",
       "1      4D Caffetteria Italiana            Café  40.413972 -3.708090   \n",
       "2  Bellamia Gelateria Italiana  Ice Cream Shop  40.422448 -3.700408   \n",
       "\n",
       "                                      labeledLatLngs  distance  cc country  \\\n",
       "0  [{'label': 'display', 'lat': 40.415978, 'lng':...       200  ES  España   \n",
       "1  [{'label': 'display', 'lat': 40.41397173630024...       488  ES  España   \n",
       "2  [{'label': 'display', 'lat': 40.42244828094222...       693  ES  España   \n",
       "\n",
       "                                    formattedAddress                address  \\\n",
       "0                                           [España]                    NaN   \n",
       "1  [C/ de Cuchilleros, 17, 28005 Madrid Madrid, E...  C/ de Cuchilleros, 17   \n",
       "2  [C. Pérez Galdós, 3 (C. Fuencarral, 34), 28004...     C. Pérez Galdós, 3   \n",
       "\n",
       "  postalCode                   city   state        crossStreet  \\\n",
       "0        NaN                    NaN     NaN                NaN   \n",
       "1      28005                 Madrid  Madrid                NaN   \n",
       "2      28004  Madrid Centro, Madrid  Madrid  C. Fuencarral, 34   \n",
       "\n",
       "                         id  \n",
       "0  4e5e767c14954da39ff06d12  \n",
       "1  4c080ac3a1b32d7f3c6595f0  \n",
       "2  5390ee01498e87f1a952ff0e  "
      ]
     },
     "execution_count": 24,
     "metadata": {},
     "output_type": "execute_result"
    }
   ],
   "source": [
    "filtered_columns = ['name', 'categories'] + [col for col in dataframe.columns if col.startswith('location.')] + ['id']\n",
    "dataframe_filtered = dataframe.loc[:, filtered_columns]\n",
    "\n",
    "# function that extracts the category of the venue\n",
    "def get_category_type(row):\n",
    "    try:\n",
    "        categories_list = row['categories']\n",
    "    except:\n",
    "        categories_list = row['venue.categories']\n",
    "        \n",
    "    if len(categories_list) == 0:\n",
    "        return None\n",
    "    else:\n",
    "        return categories_list[0]['name']\n",
    "\n",
    "# filter the category for each row\n",
    "dataframe_filtered['categories'] = dataframe_filtered.apply(get_category_type, axis=1)\n",
    "\n",
    "# clean column names by keeping only last term\n",
    "dataframe_filtered.columns = [column.split('.')[-1] for column in dataframe_filtered.columns]\n",
    "\n",
    "dataframe_filtered"
   ]
  },
  {
   "cell_type": "code",
   "execution_count": 25,
   "metadata": {},
   "outputs": [
    {
     "data": {
      "text/plain": [
       "0                 Molto Italiano\n",
       "1        4D Caffetteria Italiana\n",
       "2    Bellamia Gelateria Italiana\n",
       "Name: name, dtype: object"
      ]
     },
     "execution_count": 25,
     "metadata": {},
     "output_type": "execute_result"
    }
   ],
   "source": [
    "dataframe_filtered.name"
   ]
  },
  {
   "cell_type": "code",
   "execution_count": 26,
   "metadata": {},
   "outputs": [
    {
     "data": {
      "text/html": [
       "<div style=\"width:100%;\"><div style=\"position:relative;width:100%;height:0;padding-bottom:60%;\"><span style=\"color:#565656\">Make this Notebook Trusted to load map: File -> Trust Notebook</span><iframe src=\"about:blank\" style=\"position:absolute;width:100%;height:100%;left:0;top:0;border:none !important;\" data-html=PCFET0NUWVBFIGh0bWw+CjxoZWFkPiAgICAKICAgIDxtZXRhIGh0dHAtZXF1aXY9ImNvbnRlbnQtdHlwZSIgY29udGVudD0idGV4dC9odG1sOyBjaGFyc2V0PVVURi04IiAvPgogICAgPHNjcmlwdD5MX1BSRUZFUl9DQU5WQVMgPSBmYWxzZTsgTF9OT19UT1VDSCA9IGZhbHNlOyBMX0RJU0FCTEVfM0QgPSBmYWxzZTs8L3NjcmlwdD4KICAgIDxzY3JpcHQgc3JjPSJodHRwczovL2Nkbi5qc2RlbGl2ci5uZXQvbnBtL2xlYWZsZXRAMS4yLjAvZGlzdC9sZWFmbGV0LmpzIj48L3NjcmlwdD4KICAgIDxzY3JpcHQgc3JjPSJodHRwczovL2FqYXguZ29vZ2xlYXBpcy5jb20vYWpheC9saWJzL2pxdWVyeS8xLjExLjEvanF1ZXJ5Lm1pbi5qcyI+PC9zY3JpcHQ+CiAgICA8c2NyaXB0IHNyYz0iaHR0cHM6Ly9tYXhjZG4uYm9vdHN0cmFwY2RuLmNvbS9ib290c3RyYXAvMy4yLjAvanMvYm9vdHN0cmFwLm1pbi5qcyI+PC9zY3JpcHQ+CiAgICA8c2NyaXB0IHNyYz0iaHR0cHM6Ly9jZG5qcy5jbG91ZGZsYXJlLmNvbS9hamF4L2xpYnMvTGVhZmxldC5hd2Vzb21lLW1hcmtlcnMvMi4wLjIvbGVhZmxldC5hd2Vzb21lLW1hcmtlcnMuanMiPjwvc2NyaXB0PgogICAgPGxpbmsgcmVsPSJzdHlsZXNoZWV0IiBocmVmPSJodHRwczovL2Nkbi5qc2RlbGl2ci5uZXQvbnBtL2xlYWZsZXRAMS4yLjAvZGlzdC9sZWFmbGV0LmNzcyIvPgogICAgPGxpbmsgcmVsPSJzdHlsZXNoZWV0IiBocmVmPSJodHRwczovL21heGNkbi5ib290c3RyYXBjZG4uY29tL2Jvb3RzdHJhcC8zLjIuMC9jc3MvYm9vdHN0cmFwLm1pbi5jc3MiLz4KICAgIDxsaW5rIHJlbD0ic3R5bGVzaGVldCIgaHJlZj0iaHR0cHM6Ly9tYXhjZG4uYm9vdHN0cmFwY2RuLmNvbS9ib290c3RyYXAvMy4yLjAvY3NzL2Jvb3RzdHJhcC10aGVtZS5taW4uY3NzIi8+CiAgICA8bGluayByZWw9InN0eWxlc2hlZXQiIGhyZWY9Imh0dHBzOi8vbWF4Y2RuLmJvb3RzdHJhcGNkbi5jb20vZm9udC1hd2Vzb21lLzQuNi4zL2Nzcy9mb250LWF3ZXNvbWUubWluLmNzcyIvPgogICAgPGxpbmsgcmVsPSJzdHlsZXNoZWV0IiBocmVmPSJodHRwczovL2NkbmpzLmNsb3VkZmxhcmUuY29tL2FqYXgvbGlicy9MZWFmbGV0LmF3ZXNvbWUtbWFya2Vycy8yLjAuMi9sZWFmbGV0LmF3ZXNvbWUtbWFya2Vycy5jc3MiLz4KICAgIDxsaW5rIHJlbD0ic3R5bGVzaGVldCIgaHJlZj0iaHR0cHM6Ly9yYXdnaXQuY29tL3B5dGhvbi12aXN1YWxpemF0aW9uL2ZvbGl1bS9tYXN0ZXIvZm9saXVtL3RlbXBsYXRlcy9sZWFmbGV0LmF3ZXNvbWUucm90YXRlLmNzcyIvPgogICAgPHN0eWxlPmh0bWwsIGJvZHkge3dpZHRoOiAxMDAlO2hlaWdodDogMTAwJTttYXJnaW46IDA7cGFkZGluZzogMDt9PC9zdHlsZT4KICAgIDxzdHlsZT4jbWFwIHtwb3NpdGlvbjphYnNvbHV0ZTt0b3A6MDtib3R0b206MDtyaWdodDowO2xlZnQ6MDt9PC9zdHlsZT4KICAgIAogICAgICAgICAgICA8c3R5bGU+ICNtYXBfYzQwNjEyNWM0NThiNDg0MTkxZGU5NjM0ZDk1ODI3ZWYgewogICAgICAgICAgICAgICAgcG9zaXRpb24gOiByZWxhdGl2ZTsKICAgICAgICAgICAgICAgIHdpZHRoIDogMTAwLjAlOwogICAgICAgICAgICAgICAgaGVpZ2h0OiAxMDAuMCU7CiAgICAgICAgICAgICAgICBsZWZ0OiAwLjAlOwogICAgICAgICAgICAgICAgdG9wOiAwLjAlOwogICAgICAgICAgICAgICAgfQogICAgICAgICAgICA8L3N0eWxlPgogICAgICAgIAo8L2hlYWQ+Cjxib2R5PiAgICAKICAgIAogICAgICAgICAgICA8ZGl2IGNsYXNzPSJmb2xpdW0tbWFwIiBpZD0ibWFwX2M0MDYxMjVjNDU4YjQ4NDE5MWRlOTYzNGQ5NTgyN2VmIiA+PC9kaXY+CiAgICAgICAgCjwvYm9keT4KPHNjcmlwdD4gICAgCiAgICAKCiAgICAgICAgICAgIAogICAgICAgICAgICAgICAgdmFyIGJvdW5kcyA9IG51bGw7CiAgICAgICAgICAgIAoKICAgICAgICAgICAgdmFyIG1hcF9jNDA2MTI1YzQ1OGI0ODQxOTFkZTk2MzRkOTU4MjdlZiA9IEwubWFwKAogICAgICAgICAgICAgICAgICAgICAgICAgICAgICAgICAgJ21hcF9jNDA2MTI1YzQ1OGI0ODQxOTFkZTk2MzRkOTU4MjdlZicsCiAgICAgICAgICAgICAgICAgICAgICAgICAgICAgICAgICB7Y2VudGVyOiBbNDAuNDE2NzA0NywtMy43MDM1ODI1XSwKICAgICAgICAgICAgICAgICAgICAgICAgICAgICAgICAgIHpvb206IDEzLAogICAgICAgICAgICAgICAgICAgICAgICAgICAgICAgICAgbWF4Qm91bmRzOiBib3VuZHMsCiAgICAgICAgICAgICAgICAgICAgICAgICAgICAgICAgICBsYXllcnM6IFtdLAogICAgICAgICAgICAgICAgICAgICAgICAgICAgICAgICAgd29ybGRDb3B5SnVtcDogZmFsc2UsCiAgICAgICAgICAgICAgICAgICAgICAgICAgICAgICAgICBjcnM6IEwuQ1JTLkVQU0czODU3CiAgICAgICAgICAgICAgICAgICAgICAgICAgICAgICAgIH0pOwogICAgICAgICAgICAKICAgICAgICAKICAgIAogICAgICAgICAgICB2YXIgdGlsZV9sYXllcl8zZmYxZDVkN2IxNTI0NzRmOWI4YzQ1MjBjOTM0YWJlZCA9IEwudGlsZUxheWVyKAogICAgICAgICAgICAgICAgJ2h0dHBzOi8ve3N9LnRpbGUub3BlbnN0cmVldG1hcC5vcmcve3p9L3t4fS97eX0ucG5nJywKICAgICAgICAgICAgICAgIHsKICAiYXR0cmlidXRpb24iOiBudWxsLAogICJkZXRlY3RSZXRpbmEiOiBmYWxzZSwKICAibWF4Wm9vbSI6IDE4LAogICJtaW5ab29tIjogMSwKICAibm9XcmFwIjogZmFsc2UsCiAgInN1YmRvbWFpbnMiOiAiYWJjIgp9CiAgICAgICAgICAgICAgICApLmFkZFRvKG1hcF9jNDA2MTI1YzQ1OGI0ODQxOTFkZTk2MzRkOTU4MjdlZik7CiAgICAgICAgCiAgICAKICAgICAgICAgICAgdmFyIGNpcmNsZV9tYXJrZXJfZTUxYTBkM2E1OGE5NGRkYWI4NTk2ODRiOGE4NTRkYWUgPSBMLmNpcmNsZU1hcmtlcigKICAgICAgICAgICAgICAgIFs0MC40MTY3MDQ3LC0zLjcwMzU4MjVdLAogICAgICAgICAgICAgICAgewogICJidWJibGluZ01vdXNlRXZlbnRzIjogdHJ1ZSwKICAiY29sb3IiOiAicmVkIiwKICAiZGFzaEFycmF5IjogbnVsbCwKICAiZGFzaE9mZnNldCI6IG51bGwsCiAgImZpbGwiOiB0cnVlLAogICJmaWxsQ29sb3IiOiAicmVkIiwKICAiZmlsbE9wYWNpdHkiOiAwLjYsCiAgImZpbGxSdWxlIjogImV2ZW5vZGQiLAogICJsaW5lQ2FwIjogInJvdW5kIiwKICAibGluZUpvaW4iOiAicm91bmQiLAogICJvcGFjaXR5IjogMS4wLAogICJyYWRpdXMiOiAxMCwKICAic3Ryb2tlIjogdHJ1ZSwKICAid2VpZ2h0IjogMwp9CiAgICAgICAgICAgICAgICApLmFkZFRvKG1hcF9jNDA2MTI1YzQ1OGI0ODQxOTFkZTk2MzRkOTU4MjdlZik7CiAgICAgICAgICAgIAogICAgCiAgICAgICAgICAgIHZhciBwb3B1cF8xYTRkMmM2MmMwOWE0Y2Q0OTAzZmEyMzIxYjdmNjU2NiA9IEwucG9wdXAoe21heFdpZHRoOiAnMzAwJ30pOwoKICAgICAgICAgICAgCiAgICAgICAgICAgICAgICB2YXIgaHRtbF9lYTFkYjcyYWY3ZDg0YTBhOTNiY2FjZWNlODY5ZTU3YiA9ICQoJzxkaXYgaWQ9Imh0bWxfZWExZGI3MmFmN2Q4NGEwYTkzYmNhY2VjZTg2OWU1N2IiIHN0eWxlPSJ3aWR0aDogMTAwLjAlOyBoZWlnaHQ6IDEwMC4wJTsiPk1hZHJpZCxTcGFpbjwvZGl2PicpWzBdOwogICAgICAgICAgICAgICAgcG9wdXBfMWE0ZDJjNjJjMDlhNGNkNDkwM2ZhMjMyMWI3ZjY1NjYuc2V0Q29udGVudChodG1sX2VhMWRiNzJhZjdkODRhMGE5M2JjYWNlY2U4NjllNTdiKTsKICAgICAgICAgICAgCgogICAgICAgICAgICBjaXJjbGVfbWFya2VyX2U1MWEwZDNhNThhOTRkZGFiODU5Njg0YjhhODU0ZGFlLmJpbmRQb3B1cChwb3B1cF8xYTRkMmM2MmMwOWE0Y2Q0OTAzZmEyMzIxYjdmNjU2Nik7CgogICAgICAgICAgICAKICAgICAgICAKICAgIAogICAgICAgICAgICB2YXIgY2lyY2xlX21hcmtlcl84NWIwYTUxMzE4MDY0NzJlOWQ4ZjUwNGVhN2NiOGQ2MiA9IEwuY2lyY2xlTWFya2VyKAogICAgICAgICAgICAgICAgWzQwLjQxNTk3OCwtMy43MDU3NDhdLAogICAgICAgICAgICAgICAgewogICJidWJibGluZ01vdXNlRXZlbnRzIjogdHJ1ZSwKICAiY29sb3IiOiAiYmx1ZSIsCiAgImRhc2hBcnJheSI6IG51bGwsCiAgImRhc2hPZmZzZXQiOiBudWxsLAogICJmaWxsIjogdHJ1ZSwKICAiZmlsbENvbG9yIjogImJsdWUiLAogICJmaWxsT3BhY2l0eSI6IDAuNiwKICAiZmlsbFJ1bGUiOiAiZXZlbm9kZCIsCiAgImxpbmVDYXAiOiAicm91bmQiLAogICJsaW5lSm9pbiI6ICJyb3VuZCIsCiAgIm9wYWNpdHkiOiAxLjAsCiAgInJhZGl1cyI6IDUsCiAgInN0cm9rZSI6IHRydWUsCiAgIndlaWdodCI6IDMKfQogICAgICAgICAgICAgICAgKS5hZGRUbyhtYXBfYzQwNjEyNWM0NThiNDg0MTkxZGU5NjM0ZDk1ODI3ZWYpOwogICAgICAgICAgICAKICAgIAogICAgICAgICAgICB2YXIgcG9wdXBfYTMwYzM2ODAwOWY4NDEzMTk2NzM5MTAwZDI4NDc3ODUgPSBMLnBvcHVwKHttYXhXaWR0aDogJzMwMCd9KTsKCiAgICAgICAgICAgIAogICAgICAgICAgICAgICAgdmFyIGh0bWxfNmE0MzUxMDc2NjQ0NGQxN2EzYTBkNTExODI4MTlmZDcgPSAkKCc8ZGl2IGlkPSJodG1sXzZhNDM1MTA3NjY0NDRkMTdhM2EwZDUxMTgyODE5ZmQ3IiBzdHlsZT0id2lkdGg6IDEwMC4wJTsgaGVpZ2h0OiAxMDAuMCU7Ij5QaXp6YSBQbGFjZTwvZGl2PicpWzBdOwogICAgICAgICAgICAgICAgcG9wdXBfYTMwYzM2ODAwOWY4NDEzMTk2NzM5MTAwZDI4NDc3ODUuc2V0Q29udGVudChodG1sXzZhNDM1MTA3NjY0NDRkMTdhM2EwZDUxMTgyODE5ZmQ3KTsKICAgICAgICAgICAgCgogICAgICAgICAgICBjaXJjbGVfbWFya2VyXzg1YjBhNTEzMTgwNjQ3MmU5ZDhmNTA0ZWE3Y2I4ZDYyLmJpbmRQb3B1cChwb3B1cF9hMzBjMzY4MDA5Zjg0MTMxOTY3MzkxMDBkMjg0Nzc4NSk7CgogICAgICAgICAgICAKICAgICAgICAKICAgIAogICAgICAgICAgICB2YXIgY2lyY2xlX21hcmtlcl9lYmJlOGFhMTEzZDA0OGMyYTlhNTMwMTBhNDM4YjEyZSA9IEwuY2lyY2xlTWFya2VyKAogICAgICAgICAgICAgICAgWzQwLjQxMzk3MTczNjMwMDI0LC0zLjcwODA4OTU5OTg0NTYzNzRdLAogICAgICAgICAgICAgICAgewogICJidWJibGluZ01vdXNlRXZlbnRzIjogdHJ1ZSwKICAiY29sb3IiOiAiYmx1ZSIsCiAgImRhc2hBcnJheSI6IG51bGwsCiAgImRhc2hPZmZzZXQiOiBudWxsLAogICJmaWxsIjogdHJ1ZSwKICAiZmlsbENvbG9yIjogImJsdWUiLAogICJmaWxsT3BhY2l0eSI6IDAuNiwKICAiZmlsbFJ1bGUiOiAiZXZlbm9kZCIsCiAgImxpbmVDYXAiOiAicm91bmQiLAogICJsaW5lSm9pbiI6ICJyb3VuZCIsCiAgIm9wYWNpdHkiOiAxLjAsCiAgInJhZGl1cyI6IDUsCiAgInN0cm9rZSI6IHRydWUsCiAgIndlaWdodCI6IDMKfQogICAgICAgICAgICAgICAgKS5hZGRUbyhtYXBfYzQwNjEyNWM0NThiNDg0MTkxZGU5NjM0ZDk1ODI3ZWYpOwogICAgICAgICAgICAKICAgIAogICAgICAgICAgICB2YXIgcG9wdXBfMTgzMWI3Y2YyMjNmNDY0ZGI2NGUyYTllNjFkOWI5MDMgPSBMLnBvcHVwKHttYXhXaWR0aDogJzMwMCd9KTsKCiAgICAgICAgICAgIAogICAgICAgICAgICAgICAgdmFyIGh0bWxfYzczOTRmOTE4OGM3NDMxYjk1ZmQ2MjczYzJkOTUzMjAgPSAkKCc8ZGl2IGlkPSJodG1sX2M3Mzk0ZjkxODhjNzQzMWI5NWZkNjI3M2MyZDk1MzIwIiBzdHlsZT0id2lkdGg6IDEwMC4wJTsgaGVpZ2h0OiAxMDAuMCU7Ij5DYWbDqTwvZGl2PicpWzBdOwogICAgICAgICAgICAgICAgcG9wdXBfMTgzMWI3Y2YyMjNmNDY0ZGI2NGUyYTllNjFkOWI5MDMuc2V0Q29udGVudChodG1sX2M3Mzk0ZjkxODhjNzQzMWI5NWZkNjI3M2MyZDk1MzIwKTsKICAgICAgICAgICAgCgogICAgICAgICAgICBjaXJjbGVfbWFya2VyX2ViYmU4YWExMTNkMDQ4YzJhOWE1MzAxMGE0MzhiMTJlLmJpbmRQb3B1cChwb3B1cF8xODMxYjdjZjIyM2Y0NjRkYjY0ZTJhOWU2MWQ5YjkwMyk7CgogICAgICAgICAgICAKICAgICAgICAKICAgIAogICAgICAgICAgICB2YXIgY2lyY2xlX21hcmtlcl9kMGU1ZGZkMjVhMGQ0NTNjYWU0MTcyYWJlNDI1NzIzNyA9IEwuY2lyY2xlTWFya2VyKAogICAgICAgICAgICAgICAgWzQwLjQyMjQ0ODI4MDk0MjIyLC0zLjcwMDQwODI3MjYxMTI5ODNdLAogICAgICAgICAgICAgICAgewogICJidWJibGluZ01vdXNlRXZlbnRzIjogdHJ1ZSwKICAiY29sb3IiOiAiYmx1ZSIsCiAgImRhc2hBcnJheSI6IG51bGwsCiAgImRhc2hPZmZzZXQiOiBudWxsLAogICJmaWxsIjogdHJ1ZSwKICAiZmlsbENvbG9yIjogImJsdWUiLAogICJmaWxsT3BhY2l0eSI6IDAuNiwKICAiZmlsbFJ1bGUiOiAiZXZlbm9kZCIsCiAgImxpbmVDYXAiOiAicm91bmQiLAogICJsaW5lSm9pbiI6ICJyb3VuZCIsCiAgIm9wYWNpdHkiOiAxLjAsCiAgInJhZGl1cyI6IDUsCiAgInN0cm9rZSI6IHRydWUsCiAgIndlaWdodCI6IDMKfQogICAgICAgICAgICAgICAgKS5hZGRUbyhtYXBfYzQwNjEyNWM0NThiNDg0MTkxZGU5NjM0ZDk1ODI3ZWYpOwogICAgICAgICAgICAKICAgIAogICAgICAgICAgICB2YXIgcG9wdXBfZDkxMzUxMTkyNDk2NGUwNjhmZWYwZGViMWRlNTJlYTkgPSBMLnBvcHVwKHttYXhXaWR0aDogJzMwMCd9KTsKCiAgICAgICAgICAgIAogICAgICAgICAgICAgICAgdmFyIGh0bWxfNTZkNTkyNWM5OTg1NGZlZTg2ZDFhYzhhMmQ1NGE3YzMgPSAkKCc8ZGl2IGlkPSJodG1sXzU2ZDU5MjVjOTk4NTRmZWU4NmQxYWM4YTJkNTRhN2MzIiBzdHlsZT0id2lkdGg6IDEwMC4wJTsgaGVpZ2h0OiAxMDAuMCU7Ij5JY2UgQ3JlYW0gU2hvcDwvZGl2PicpWzBdOwogICAgICAgICAgICAgICAgcG9wdXBfZDkxMzUxMTkyNDk2NGUwNjhmZWYwZGViMWRlNTJlYTkuc2V0Q29udGVudChodG1sXzU2ZDU5MjVjOTk4NTRmZWU4NmQxYWM4YTJkNTRhN2MzKTsKICAgICAgICAgICAgCgogICAgICAgICAgICBjaXJjbGVfbWFya2VyX2QwZTVkZmQyNWEwZDQ1M2NhZTQxNzJhYmU0MjU3MjM3LmJpbmRQb3B1cChwb3B1cF9kOTEzNTExOTI0OTY0ZTA2OGZlZjBkZWIxZGU1MmVhOSk7CgogICAgICAgICAgICAKICAgICAgICAKPC9zY3JpcHQ+ onload=\"this.contentDocument.open();this.contentDocument.write(atob(this.getAttribute('data-html')));this.contentDocument.close();\" allowfullscreen webkitallowfullscreen mozallowfullscreen></iframe></div></div>"
      ],
      "text/plain": [
       "<folium.folium.Map at 0x7fef1be6f9e8>"
      ]
     },
     "execution_count": 26,
     "metadata": {},
     "output_type": "execute_result"
    }
   ],
   "source": [
    "venues_map = folium.Map(location=[latitude, longitude], zoom_start=13) # generate map centred around the Conrad Hotel\n",
    "\n",
    "\n",
    "folium.CircleMarker(\n",
    "    [latitude, longitude],\n",
    "    radius=10,\n",
    "    color='red',\n",
    "    popup='Madrid,Spain',\n",
    "    fill = True,\n",
    "    fill_color = 'red',\n",
    "    fill_opacity = 0.6\n",
    ").add_to(venues_map)\n",
    "\n",
    "# add the Italian restaurants as blue circle markers\n",
    "for lat, lng, label in zip(dataframe_filtered.lat, dataframe_filtered.lng, dataframe_filtered.categories):\n",
    "    folium.CircleMarker(\n",
    "        [lat, lng],\n",
    "        radius=5,\n",
    "        color='blue',\n",
    "        popup=label,\n",
    "        fill = True,\n",
    "        fill_color='blue',\n",
    "        fill_opacity=0.6\n",
    "    ).add_to(venues_map)\n",
    "\n",
    "# display map\n",
    "venues_map"
   ]
  },
  {
   "cell_type": "code",
   "execution_count": null,
   "metadata": {},
   "outputs": [],
   "source": []
  }
 ],
 "metadata": {
  "kernelspec": {
   "display_name": "Python",
   "language": "python",
   "name": "conda-env-python-py"
  },
  "language_info": {
   "codemirror_mode": {
    "name": "ipython",
    "version": 3
   },
   "file_extension": ".py",
   "mimetype": "text/x-python",
   "name": "python",
   "nbconvert_exporter": "python",
   "pygments_lexer": "ipython3",
   "version": "3.6.11"
  }
 },
 "nbformat": 4,
 "nbformat_minor": 4
}
